{
  "cells": [
    {
      "cell_type": "markdown",
      "metadata": {
        "id": "HYQLV9R_ahG8"
      },
      "source": [
        "# Introduction to SciKit-Learniiii"
      ]
    },
    {
      "cell_type": "markdown",
      "metadata": {
        "id": "WCCaZjLGcnB1"
      },
      "source": [
        "*   An open-source ML Library written for Python.\n",
        "*   Built on NumPy, SciPy and pandas.\n",
        "*   Has tools for predictive data analysis and model evaluation.\n",
        "*   Convenient for all ranges of expertise. \n",
        "\n"
      ]
    },
    {
      "cell_type": "markdown",
      "metadata": {
        "id": "r3lb7I_Jec4n"
      },
      "source": [
        "#Installation and Importing into colab Env"
      ]
    },
    {
      "cell_type": "code",
      "execution_count": null,
      "metadata": {
        "colab": {
          "base_uri": "https://localhost:8080/"
        },
        "id": "3VzNZ3FRe1h8",
        "outputId": "ad176b85-29f3-41d3-b0a0-9cd28a0dd1cc"
      },
      "outputs": [
        {
          "output_type": "stream",
          "name": "stdout",
          "text": [
            "Looking in indexes: https://pypi.org/simple, https://us-python.pkg.dev/colab-wheels/public/simple/\n",
            "Requirement already satisfied: scikit-learn in /usr/local/lib/python3.9/dist-packages (1.2.1)\n",
            "Collecting scikit-learn\n",
            "  Downloading scikit_learn-1.2.2-cp39-cp39-manylinux_2_17_x86_64.manylinux2014_x86_64.whl (9.6 MB)\n",
            "\u001b[2K     \u001b[90m━━━━━━━━━━━━━━━━━━━━━━━━━━━━━━━━━━━━━━━━\u001b[0m \u001b[32m9.6/9.6 MB\u001b[0m \u001b[31m52.1 MB/s\u001b[0m eta \u001b[36m0:00:00\u001b[0m\n",
            "\u001b[?25hRequirement already satisfied: joblib>=1.1.1 in /usr/local/lib/python3.9/dist-packages (from scikit-learn) (1.2.0)\n",
            "Requirement already satisfied: threadpoolctl>=2.0.0 in /usr/local/lib/python3.9/dist-packages (from scikit-learn) (3.1.0)\n",
            "Requirement already satisfied: numpy>=1.17.3 in /usr/local/lib/python3.9/dist-packages (from scikit-learn) (1.24.2)\n",
            "Requirement already satisfied: scipy>=1.3.2 in /usr/local/lib/python3.9/dist-packages (from scikit-learn) (1.10.1)\n",
            "Installing collected packages: scikit-learn\n",
            "  Attempting uninstall: scikit-learn\n",
            "    Found existing installation: scikit-learn 1.2.1\n",
            "    Uninstalling scikit-learn-1.2.1:\n",
            "      Successfully uninstalled scikit-learn-1.2.1\n",
            "Successfully installed scikit-learn-1.2.2\n"
          ]
        },
        {
          "output_type": "display_data",
          "data": {
            "application/vnd.colab-display-data+json": {
              "pip_warning": {
                "packages": [
                  "sklearn"
                ]
              }
            }
          },
          "metadata": {}
        }
      ],
      "source": [
        "#Installation\n",
        "!pip install -U scikit-learn"
      ]
    },
    {
      "cell_type": "code",
      "execution_count": null,
      "metadata": {
        "id": "SFupuLWtfMZU"
      },
      "outputs": [],
      "source": [
        "#Importing in Env\n",
        "import sklearn"
      ]
    },
    {
      "cell_type": "code",
      "source": [
        "!pip uninstall scikit-learn\n",
        "!pip install scikit-learn"
      ],
      "metadata": {
        "colab": {
          "base_uri": "https://localhost:8080/"
        },
        "id": "-xNyrRyKvKhb",
        "outputId": "d0cb9bb4-c79c-4627-93a7-17328f3fac2c"
      },
      "execution_count": null,
      "outputs": [
        {
          "output_type": "stream",
          "name": "stdout",
          "text": [
            "Found existing installation: scikit-learn 1.2.2\n",
            "Uninstalling scikit-learn-1.2.2:\n",
            "  Would remove:\n",
            "    /usr/local/lib/python3.9/dist-packages/scikit_learn-1.2.2.dist-info/*\n",
            "    /usr/local/lib/python3.9/dist-packages/scikit_learn.libs/libgomp-a34b3233.so.1.0.0\n",
            "    /usr/local/lib/python3.9/dist-packages/sklearn/*\n",
            "Proceed (Y/n)? y\n",
            "  Successfully uninstalled scikit-learn-1.2.2\n",
            "Looking in indexes: https://pypi.org/simple, https://us-python.pkg.dev/colab-wheels/public/simple/\n",
            "Collecting scikit-learn\n",
            "  Using cached scikit_learn-1.2.2-cp39-cp39-manylinux_2_17_x86_64.manylinux2014_x86_64.whl (9.6 MB)\n",
            "Requirement already satisfied: threadpoolctl>=2.0.0 in /usr/local/lib/python3.9/dist-packages (from scikit-learn) (3.1.0)\n",
            "Requirement already satisfied: joblib>=1.1.1 in /usr/local/lib/python3.9/dist-packages (from scikit-learn) (1.2.0)\n",
            "Requirement already satisfied: scipy>=1.3.2 in /usr/local/lib/python3.9/dist-packages (from scikit-learn) (1.10.1)\n",
            "Requirement already satisfied: numpy>=1.17.3 in /usr/local/lib/python3.9/dist-packages (from scikit-learn) (1.24.2)\n",
            "Installing collected packages: scikit-learn\n",
            "Successfully installed scikit-learn-1.2.2\n"
          ]
        },
        {
          "output_type": "display_data",
          "data": {
            "application/vnd.colab-display-data+json": {
              "pip_warning": {
                "packages": [
                  "sklearn"
                ]
              }
            }
          },
          "metadata": {}
        }
      ]
    },
    {
      "cell_type": "markdown",
      "source": [
        "#Some common methods regularly used \n"
      ],
      "metadata": {
        "id": "6IOwmMr5OLY8"
      }
    },
    {
      "cell_type": "markdown",
      "source": [
        "**train_test_split()**\n",
        "\n",
        "It is a function that allows you to split a dataset into two separate datasets: one for training a model and one for testing the model.\n",
        "\n",
        "The purpose of this function is to help us evaluate how well our model will perform on new, unseen data. By splitting the data into a training set and a testing set, we can train our model on the training set and then evaluate its performance on the testing set. This allows us to get a more accurate estimate of how the model will perform on new data.\n",
        "\n",
        "The train_test_split function takes several parameters, including:\n",
        "\n",
        "**arrays**: This is a list or tuple of arrays or sparse matrices that you want to split into training and testing sets. Typically, this includes the feature matrix (X) and the target variable (y).\n",
        "\n",
        "\n",
        "**test_size**: This parameter specifies the proportion of the data that should be used for testing. It can be either a float (between 0 and 1) that represents the fraction of the data to use for testing, or an integer that represents the absolute number of samples to use for testing.\n",
        "\n",
        "**train_size**: This parameter specifies the proportion of the data that should be used for training. It can be either a float (between 0 and 1) that represents the fraction of the data to use for training, or an integer that represents the absolute number of samples to use for training.\n",
        "\n",
        "**random_state**: This parameter sets the random seed for the random number generator used by the function. This allows you to reproduce the same results each time you run the function.\n",
        "\n",
        "**shuffle**: This parameter specifies whether or not to shuffle the data before splitting it. If set to True, the data will be randomly shuffled before splitting. If set to False, the data will be split in the order it appears in the input arrays.\n",
        "\n",
        "The function returns a tuple of four items: X_train, X_test, y_train, and y_test. These represent the training and testing sets for the feature matrix and target variable, respectively. The size of each set is determined by the test_size and train_size parameters.\n",
        "\n"
      ],
      "metadata": {
        "id": "0H5nQsqxSU0t"
      }
    },
    {
      "cell_type": "markdown",
      "source": [
        "**mean square error function:**\n",
        "\n",
        "The mean_squared_error function from the sklearn.metrics module is used to calculate the mean squared error (MSE) between actual and predicted values. It takes two arrays as input: **y_test** (the ground truth or actual values) and **y_pred** (the predicted values).\n",
        "\n",
        "In short, **mean_squared_error** is a commonly used metric for evaluating the performance of regression models, with lower values indicating better model performance."
      ],
      "metadata": {
        "id": "JILxzrzmCkxb"
      }
    },
    {
      "cell_type": "markdown",
      "source": [
        "**fit function and predict function:**\n",
        "\n",
        "The **fit function** is a fundamental method of many classes in the sklearn module, which is used to train machine learning models. It is a generic method that takes two inputs: the training data X and the corresponding target variable y.\n",
        "\n",
        "The fit method trains the model by finding the best parameters that minimize a specific cost or loss function on the given training data. The specific details of how the model is trained depend on the type of algorithm being used.\n",
        "\n",
        "fit fuction is used to train models on training data so that they can make predictions on new, unseen data.\n",
        "\n",
        "The **predict function** is a method in the sklearn module that is used to generate predictions on new data using a trained machine learning model. It takes an array of input data X as input and returns an array of predicted target values y_pred."
      ],
      "metadata": {
        "id": "e1MRmVUYiNKf"
      }
    },
    {
      "cell_type": "markdown",
      "metadata": {
        "id": "3FwZTqOegIh1"
      },
      "source": [
        "\n",
        "\n",
        "#Simple Linear Regression using SciKit-Learn"
      ]
    },
    {
      "cell_type": "code",
      "execution_count": null,
      "metadata": {
        "colab": {
          "base_uri": "https://localhost:8080/",
          "height": 312
        },
        "id": "Ep7wTEngf0tF",
        "outputId": "3fb2e582-63c4-4854-bb58-93f77c6d99d5"
      },
      "outputs": [
        {
          "output_type": "stream",
          "name": "stdout",
          "text": [
            "Mean squared error: 4181.423410366638\n"
          ]
        },
        {
          "output_type": "display_data",
          "data": {
            "text/plain": [
              "<Figure size 432x288 with 1 Axes>"
            ],
            "image/png": "[encoded data removed]"
          },
          "metadata": {
            "needs_background": "light"
          }
        }
      ],
      "source": [
        "from sklearn.datasets import load_diabetes\n",
        "from sklearn.linear_model import LinearRegression\n",
        "from sklearn.model_selection import train_test_split\n",
        "from sklearn.metrics import mean_squared_error\n",
        "import matplotlib.pyplot as plt\n",
        "\n",
        "# load the diabetes dataset from sklearn\n",
        "diabetes = load_diabetes()\n",
        "\n",
        "# split the data into training and testing sets\n",
        "X_train, X_test, y_train, y_test = train_test_split(diabetes.data[:, 2].reshape(-1, 1), diabetes.target, random_state=0)\n",
        "\n",
        "# create a linear regression model and fit it to the training data\n",
        "lr = LinearRegression().fit(X_train, y_train)\n",
        "\n",
        "# predict on the test data\n",
        "y_pred = lr.predict(X_test)\n",
        "\n",
        "# calculate the mean squared error of the predictions\n",
        "mse = mean_squared_error(y_test, y_pred)\n",
        "print('Mean squared error:', mse)\n",
        "\n",
        "# plot the training data as a scatter plot\n",
        "plt.scatter(X_train, y_train, color='red')\n",
        "\n",
        "# plot the regression line using the coefficients obtained from the linear regression model\n",
        "plt.plot(X_train, lr.coef_ * X_train + lr.intercept_, color='blue')\n",
        "\n",
        "# set the axis labels and title\n",
        "plt.xlabel('Feature')\n",
        "plt.ylabel('Target')\n",
        "plt.title('Simple Linear Regression')\n",
        "\n",
        "# display the plot\n",
        "plt.show()\n",
        "\n"
      ]
    },
    {
      "cell_type": "markdown",
      "source": [
        "#Multi Regression using sklearn"
      ],
      "metadata": {
        "id": "ALOv8YVCoCN1"
      }
    },
    {
      "cell_type": "code",
      "source": [
        "from sklearn.datasets import load_diabetes\n",
        "from sklearn.linear_model import LinearRegression\n",
        "from sklearn.model_selection import train_test_split\n",
        "from sklearn.metrics import mean_squared_error\n",
        "import matplotlib.pyplot as plt\n",
        "\n",
        "# load the diabetes dataset from sklearn\n",
        "diabetes = load_diabetes()\n",
        "\n",
        "# split the data into training and testing sets\n",
        "X_train, X_test, y_train, y_test = train_test_split(diabetes.data, diabetes.target, random_state=0)\n",
        "\n",
        "# create a linear regression model and fit it to the training data\n",
        "lr = LinearRegression().fit(X_train, y_train)\n",
        "\n",
        "# predict on the test data\n",
        "y_pred = lr.predict(X_test)\n",
        "\n",
        "# calculate the mean squared error of the predictions\n",
        "mse = mean_squared_error(y_test, y_pred)\n",
        "print('Mean squared error:', mse)\n",
        "\n",
        "# plot the predicted vs actual target values on the test data\n",
        "plt.scatter(y_test, y_pred)\n",
        "plt.xlabel('Actual target values')\n",
        "plt.ylabel('Predicted target values')\n",
        "\n",
        "# plot the regression line\n",
        "plt.plot([0, 350], [0, 350], color='red')\n",
        "plt.show()\n"
      ],
      "metadata": {
        "colab": {
          "base_uri": "https://localhost:8080/",
          "height": 296
        },
        "id": "fFsVlfv1oJCS",
        "outputId": "cb2c040b-fe73-4d49-955f-94ee92a41657"
      },
      "execution_count": null,
      "outputs": [
        {
          "output_type": "stream",
          "name": "stdout",
          "text": [
            "Mean squared error: 3180.1596481558445\n"
          ]
        },
        {
          "output_type": "display_data",
          "data": {
            "text/plain": [
              "<Figure size 432x288 with 1 Axes>"
            ],
            "image/png": "[encoded data removed]"
          },
          "metadata": {
            "needs_background": "light"
          }
        }
      ]
    },
    {
      "cell_type": "markdown",
      "source": [
        "#Decision Tree using sklearn"
      ],
      "metadata": {
        "id": "7YKqXqJug0kf"
      }
    },
    {
      "cell_type": "markdown",
      "source": [
        "**accuracy_score**\n",
        "\n",
        "It is a method in the sklearn.metrics module that is used to evaluate the performance of a classification model by comparing the predicted labels to the true labels of a set of data. It takes two arrays as input: y_test (the true labels of the data) and y_pred (the predicted labels of the data).\n",
        "\n",
        "The accuracy_score function calculates the accuracy of the predicted labels by counting the number of correct predictions and dividing by the total number of predictions. Specifically, it computes the ratio of the number of correct predictions to the total number of predictions, and returns this as a score between 0 and 1. An accuracy score of 1.0 indicates perfect predictions, while a score of 0.0 indicates that the model did not make any correct predictions."
      ],
      "metadata": {
        "id": "bkEPMafF05-g"
      }
    },
    {
      "cell_type": "markdown",
      "source": [
        "**plot_tree**\n",
        "\n",
        "It is a function that can be used to visualize a decision tree model built using the DecisionTreeClassifier or DecisionTreeRegressor classes. The function is part of the tree module of scikit-learn.\n",
        "\n",
        "The plot_tree function takes in the following parameters:\n",
        "\n",
        "**decision_tree:** The decision tree model that is to be visualized. This can be an instance of either DecisionTreeClassifier or DecisionTreeRegressor.\n",
        "\n",
        "**feature_names:** A list of feature names that corresponds to the columns in the input data used to build the decision tree. If not provided, feature names will be numbered as \"feature_0\", \"feature_1\", etc.\n",
        "\n",
        "**class_names:** A list of class names that corresponds to the target labels of the classification problem. If not provided, class names will be numbered as \"class_0\", \"class_1\", etc.\n",
        "\n",
        "**filled:** A Boolean value indicating whether the tree nodes should be filled with colors or not. If True, the colors of the nodes will be determined by their impurity or value.\n",
        "\n",
        "**rounded:** A Boolean value indicating whether the tree nodes should be drawn with rounded edges or not.\n",
        "\n",
        "**precision:** The number of digits to use when formatting floating-point numbers.\n",
        "\n",
        "**fontsize:** The font size of the text in the tree diagram.\n",
        "\n",
        "The plot_tree function returns a Matplotlib Axes object that can be further customized or saved as an image file using the standard Matplotlib API.\n",
        "\n",
        "Overall, the plot_tree function is a useful tool for visualizing decision trees in scikit-learn, which can help to understand how the model works and to identify potential issues such as overfitting."
      ],
      "metadata": {
        "id": "NbdQfHPBEt0i"
      }
    },
    {
      "cell_type": "code",
      "source": [
        "from sklearn.datasets import load_iris\n",
        "from sklearn.tree import DecisionTreeClassifier\n",
        "from sklearn.model_selection import train_test_split\n",
        "from sklearn.metrics import accuracy_score\n",
        "from sklearn.tree import plot_tree\n",
        "\n",
        "# load the iris dataset from sklearn\n",
        "iris = load_iris()\n",
        "\n",
        "# split the data into training and testing sets\n",
        "X_train, X_test, y_train, y_test = train_test_split(iris.data, iris.target, random_state=0)\n",
        "\n",
        "# create a decision tree classifier model and fit it to the training data\n",
        "dt = DecisionTreeClassifier().fit(X_train, y_train)\n",
        "\n",
        "# predict on the test data\n",
        "y_pred = dt.predict(X_test)\n",
        "\n",
        "# calculate the accuracy of the predictions\n",
        "accuracy = accuracy_score(y_test, y_pred)\n",
        "print('Accuracy:', accuracy)\n",
        "\n",
        "# plot the decision tree\n",
        "plot_tree(dt, feature_names=iris.feature_names, class_names=iris.target_names, filled=True)\n",
        "\n",
        "\n"
      ],
      "metadata": {
        "colab": {
          "base_uri": "https://localhost:8080/"
        },
        "id": "QcBHDM-PhHeR",
        "outputId": "01caf17e-8bf9-4a38-c800-4a49d533a379"
      },
      "execution_count": null,
      "outputs": [
        {
          "output_type": "stream",
          "name": "stdout",
          "text": [
            "Accuracy: 0.9736842105263158\n"
          ]
        },
        {
          "output_type": "execute_result",
          "data": {
            "text/plain": [
              "[Text(0.4, 0.9, 'petal length (cm) <= 2.35\\ngini = 0.665\\nsamples = 112\\nvalue = [37, 34, 41]\\nclass = virginica'),\n",
              " Text(0.3, 0.7, 'gini = 0.0\\nsamples = 37\\nvalue = [37, 0, 0]\\nclass = setosa'),\n",
              " Text(0.5, 0.7, 'petal length (cm) <= 4.95\\ngini = 0.496\\nsamples = 75\\nvalue = [0, 34, 41]\\nclass = virginica'),\n",
              " Text(0.2, 0.5, 'petal width (cm) <= 1.65\\ngini = 0.153\\nsamples = 36\\nvalue = [0, 33, 3]\\nclass = versicolor'),\n",
              " Text(0.1, 0.3, 'gini = 0.0\\nsamples = 32\\nvalue = [0, 32, 0]\\nclass = versicolor'),\n",
              " Text(0.3, 0.3, 'sepal width (cm) <= 3.1\\ngini = 0.375\\nsamples = 4\\nvalue = [0, 1, 3]\\nclass = virginica'),\n",
              " Text(0.2, 0.1, 'gini = 0.0\\nsamples = 3\\nvalue = [0, 0, 3]\\nclass = virginica'),\n",
              " Text(0.4, 0.1, 'gini = 0.0\\nsamples = 1\\nvalue = [0, 1, 0]\\nclass = versicolor'),\n",
              " Text(0.8, 0.5, 'petal width (cm) <= 1.75\\ngini = 0.05\\nsamples = 39\\nvalue = [0, 1, 38]\\nclass = virginica'),\n",
              " Text(0.7, 0.3, 'petal width (cm) <= 1.65\\ngini = 0.375\\nsamples = 4\\nvalue = [0, 1, 3]\\nclass = virginica'),\n",
              " Text(0.6, 0.1, 'gini = 0.0\\nsamples = 3\\nvalue = [0, 0, 3]\\nclass = virginica'),\n",
              " Text(0.8, 0.1, 'gini = 0.0\\nsamples = 1\\nvalue = [0, 1, 0]\\nclass = versicolor'),\n",
              " Text(0.9, 0.3, 'gini = 0.0\\nsamples = 35\\nvalue = [0, 0, 35]\\nclass = virginica')]"
            ]
          },
          "metadata": {},
          "execution_count": 3
        },
        {
          "output_type": "display_data",
          "data": {
            "text/plain": [
              "<Figure size 432x288 with 1 Axes>"
            ],
            "image/png": "[encoded data removed]"
          },
          "metadata": {
            "needs_background": "light"
          }
        }
      ]
    },
    {
      "cell_type": "code",
      "source": [
        "from sklearn.metrics import confusion_matrix\n",
        "print(confusion_matrix(y_test,y_pred))"
      ],
      "metadata": {
        "colab": {
          "base_uri": "https://localhost:8080/"
        },
        "id": "Vxkf1YG1wGJR",
        "outputId": "20f00e7b-4d47-4beb-9aa4-c9ffbd72b1c8"
      },
      "execution_count": null,
      "outputs": [
        {
          "output_type": "stream",
          "name": "stdout",
          "text": [
            "[[13  0  0]\n",
            " [ 0 15  1]\n",
            " [ 0  0  9]]\n"
          ]
        }
      ]
    },
    {
      "cell_type": "markdown",
      "metadata": {
        "id": "VLNwnKVPhMPD"
      },
      "source": [
        "#KNN using SciKit-Learn"
      ]
    },
    {
      "cell_type": "markdown",
      "source": [
        "In sklearn, the KNeighborsClassifier class is used to perform k-nearest neighbor (KNN) classification.\n",
        "\n",
        "**n_neighbors**: The number of nearest neighbors to consider when making predictions. This is the most important hyperparameter in KNN, as it determines the size of the local neighborhood used to make predictions."
      ],
      "metadata": {
        "id": "zbHXVzDN6Of0"
      }
    },
    {
      "cell_type": "code",
      "execution_count": null,
      "metadata": {
        "colab": {
          "base_uri": "https://localhost:8080/"
        },
        "id": "bw755-nMhTRL",
        "outputId": "036c1718-1308-481e-e317-4d71283e93ae"
      },
      "outputs": [
        {
          "output_type": "stream",
          "name": "stdout",
          "text": [
            "Accuracy: 1.0\n"
          ]
        }
      ],
      "source": [
        "import numpy as np\n",
        "import matplotlib.pyplot as plt\n",
        "from sklearn.datasets import load_iris\n",
        "from sklearn.neighbors import KNeighborsClassifier\n",
        "from sklearn.model_selection import train_test_split\n",
        "from sklearn.metrics import accuracy_score\n",
        "\n",
        "# Load the iris dataset\n",
        "iris = load_iris()\n",
        "\n",
        "# Split the dataset into training and testing sets\n",
        "X_train, X_test, y_train, y_test = train_test_split(iris.data, iris.target, test_size=0.3)\n",
        "\n",
        "# Create an instance of KNeighborsClassifier\n",
        "knn = KNeighborsClassifier(n_neighbors=3)\n",
        "\n",
        "# Fit the model to the training data\n",
        "knn.fit(X_train, y_train)\n",
        "\n",
        "# Make predictions on the testing data\n",
        "y_pred = knn.predict(X_test)\n",
        "\n",
        "# Calculate the accuracy of the model\n",
        "accuracy = accuracy_score(y_test, y_pred)\n",
        "print(\"Accuracy:\", accuracy)\n"
      ]
    },
    {
      "cell_type": "code",
      "source": [
        "from sklearn.metrics import confusion_matrix\n",
        "print(confusion_matrix(y_test,y_pred))"
      ],
      "metadata": {
        "colab": {
          "base_uri": "https://localhost:8080/"
        },
        "id": "JFXLTZkwyax0",
        "outputId": "9a5f009d-852f-4087-8fc8-962b01c569ad"
      },
      "execution_count": null,
      "outputs": [
        {
          "output_type": "stream",
          "name": "stdout",
          "text": [
            "[[12  0  0]\n",
            " [ 0 15  0]\n",
            " [ 0  0 18]]\n"
          ]
        }
      ]
    },
    {
      "cell_type": "markdown",
      "metadata": {
        "id": "AcrnpJBLix1U"
      },
      "source": [
        "#Perceptron using SciKit-Learn"
      ]
    },
    {
      "cell_type": "code",
      "execution_count": null,
      "metadata": {
        "colab": {
          "base_uri": "https://localhost:8080/",
          "height": 421
        },
        "id": "JDVtps0Ni6Sa",
        "outputId": "fe145cae-c29b-4d39-c009-09fa3614d2bf"
      },
      "outputs": [
        {
          "output_type": "stream",
          "name": "stdout",
          "text": [
            "Accuracy: 0.5555555555555556\n"
          ]
        },
        {
          "output_type": "display_data",
          "data": {
            "text/plain": [
              "<Figure size 576x432 with 1 Axes>"
            ],
            "image/png": "[encoded data removed]"
          },
          "metadata": {
            "needs_background": "light"
          }
        }
      ],
      "source": [
        "import numpy as np\n",
        "import matplotlib.pyplot as plt\n",
        "from sklearn.datasets import load_iris\n",
        "from sklearn.linear_model import Perceptron\n",
        "from sklearn.model_selection import train_test_split\n",
        "from sklearn.metrics import accuracy_score\n",
        "\n",
        "# Load the iris dataset\n",
        "iris = load_iris()\n",
        "\n",
        "# Split the dataset into training and testing sets\n",
        "X_train, X_test, y_train, y_test = train_test_split(iris.data[:, :2], iris.target, test_size=0.3)\n",
        "\n",
        "# Create an instance of Perceptron\n",
        "perceptron = Perceptron()\n",
        "\n",
        "# Fit the model to the training data\n",
        "perceptron.fit(X_train, y_train)\n",
        "\n",
        "# Make predictions on the testing data\n",
        "y_pred = perceptron.predict(X_test)\n",
        "\n",
        "# Calculate the accuracy of the model\n",
        "accuracy = accuracy_score(y_test, y_pred)\n",
        "print(\"Accuracy:\", accuracy)\n",
        "\n",
        "# Plot the decision boundary of the Perceptron classifier\n",
        "X = iris.data[:, :2]  # We only take the first two features for visualization\n",
        "y = iris.target\n",
        "\n",
        "# Create a meshgrid of points to plot the decision boundary\n",
        "x_min, x_max = X[:, 0].min() - 0.5, X[:, 0].max() + 0.5\n",
        "y_min, y_max = X[:, 1].min() - 0.5, X[:, 1].max() + 0.5\n",
        "xx, yy = np.meshgrid(np.arange(x_min, x_max, 0.02), np.arange(y_min, y_max, 0.02))\n",
        "\n",
        "# Make predictions on the meshgrid points\n",
        "Z = perceptron.predict(np.c_[xx.ravel(), yy.ravel()])\n",
        "Z = Z.reshape(xx.shape)\n",
        "\n",
        "# Plot the meshgrid and the decision boundary\n",
        "plt.figure(figsize=(8, 6))\n",
        "plt.contourf(xx, yy, Z, cmap=plt.cm.Accent, alpha=0.8)\n",
        "plt.scatter(X[:, 0], X[:, 1], c=y, cmap=plt.cm.Set1, edgecolor='k')\n",
        "plt.xlabel('Sepal length')\n",
        "plt.ylabel('Sepal width')\n",
        "plt.title('Perceptron classifier on iris dataset')\n",
        "plt.show()\n"
      ]
    },
    {
      "cell_type": "code",
      "source": [
        "from sklearn.metrics import confusion_matrix\n",
        "print(confusion_matrix(y_test,y_pred))"
      ],
      "metadata": {
        "colab": {
          "base_uri": "https://localhost:8080/"
        },
        "id": "96bW9fXixkaK",
        "outputId": "974af971-8d2e-42ee-fcd2-c799c83f0cd4"
      },
      "execution_count": null,
      "outputs": [
        {
          "output_type": "stream",
          "name": "stdout",
          "text": [
            "[[15  0  0]\n",
            " [ 0 10  0]\n",
            " [ 0 20  0]]\n"
          ]
        }
      ]
    },
    {
      "cell_type": "markdown",
      "metadata": {
        "id": "6T8bqCAwMwgX"
      },
      "source": [
        "#We can download the datasets into the runtime using TensorFlow directly"
      ]
    },
    {
      "cell_type": "code",
      "execution_count": null,
      "metadata": {
        "colab": {
          "base_uri": "https://localhost:8080/",
          "height": 592
        },
        "id": "TJsQj0ZfMxSA",
        "outputId": "88b2f994-1804-4d0e-c7d6-3f522c0d0a1c"
      },
      "outputs": [
        {
          "data": {
            "image/png": "[encoded data removed]",
            "text/plain": [
              "<Figure size 720x720 with 25 Axes>"
            ]
          },
          "metadata": {},
          "output_type": "display_data"
        }
      ],
      "source": [
        "import tensorflow as tf\n",
        "import matplotlib.pyplot as plt\n",
        "\n",
        "# Load MNIST dataset\n",
        "mnist = tf.keras.datasets.mnist\n",
        "(x_train, y_train), (x_test, y_test) = mnist.load_data()\n",
        "\n",
        "# Reshape images to 28x28 pixels\n",
        "x_train = x_train.reshape((x_train.shape[0], 28, 28))\n",
        "x_test = x_test.reshape((x_test.shape[0], 28, 28))\n",
        "\n",
        "# Display example images\n",
        "plt.figure(figsize=(10, 10))\n",
        "for i in range(25):\n",
        "    plt.subplot(5, 5, i+1)\n",
        "    plt.xticks([])\n",
        "    plt.yticks([])\n",
        "    plt.grid(False)\n",
        "    plt.imshow(x_train[i], cmap=plt.cm.binary)\n",
        "    plt.xlabel(y_train[i])\n",
        "plt.show()"
      ]
    },
    {
      "cell_type": "markdown",
      "source": [
        "#BackPropagation with sklearn\n",
        "\n"
      ],
      "metadata": {
        "id": "cH5I6ULIsL65"
      }
    },
    {
      "cell_type": "markdown",
      "source": [
        "**MLPClassifier**\n",
        "\n",
        "It is a class in the scikit-learn (sklearn) library that implements a feed-forward artificial neural network for classification tasks. MLP stands for Multi-Layer Perceptron, which is a type of neural network architecture that consists of multiple layers of neurons.\n",
        "\n",
        "The MLPClassifier is capable of solving non-linear classification problems and can learn complex decision boundaries by iteratively adjusting the weights and biases of the neurons in the network.\n",
        "\n",
        "The key parameters of the MLPClassifier include:\n",
        "\n",
        "**hidden_layer_sizes:** This parameter is used to define the number of neurons in each hidden layer of the network. You can specify this parameter as a tuple where each element represents the number of neurons in that hidden layer.\n",
        "\n",
        "**activation:** This parameter is used to specify the activation function used in the neurons of the network. The activation function is applied to the weighted sum of the inputs to a neuron to produce its output. Some of the activation functions available in sklearn include logistic (sigmoid), relu, and tanh.\n",
        "\n",
        "**solver:** This parameter is used to specify the optimization algorithm used to train the network. Some of the available solvers include stochastic gradient descent (SGD), Adam, and lbfgs.\n",
        "\n",
        "**alpha:** This parameter is used to specify the L2 regularization penalty on the weights. Increasing this value can help reduce overfitting of the network.\n",
        "\n",
        "**learning_rate_init:** This parameter is used to specify the initial learning rate used by the optimization algorithm."
      ],
      "metadata": {
        "id": "OV1fPCnJCt8l"
      }
    },
    {
      "cell_type": "code",
      "execution_count": null,
      "metadata": {
        "colab": {
          "base_uri": "https://localhost:8080/"
        },
        "id": "0J6L63spZQaH",
        "outputId": "8026ef5a-15f2-4d5f-f75c-54a17c33587a"
      },
      "outputs": [
        {
          "output_type": "stream",
          "name": "stdout",
          "text": [
            "Drive already mounted at /content/drive; to attempt to forcibly remount, call drive.mount(\"/content/drive\", force_remount=True).\n"
          ]
        }
      ],
      "source": [
        "from google.colab import drive\n",
        "drive.mount('/content/drive')"
      ]
    },
    {
      "cell_type": "code",
      "execution_count": null,
      "metadata": {
        "colab": {
          "base_uri": "https://localhost:8080/"
        },
        "id": "J8a7lzw7ZgH5",
        "outputId": "7da5116d-fdf7-4cb7-9cc2-82c6b5c54ec2"
      },
      "outputs": [
        {
          "output_type": "stream",
          "name": "stdout",
          "text": [
            "TrainSplit\n",
            "       label  1x1  1x2  1x3  1x4  1x5  1x6  1x7  1x8  1x9  ...  28x19  28x20  \\\n",
            "0          5    0    0    0    0    0    0    0    0    0  ...      0      0   \n",
            "1          0    0    0    0    0    0    0    0    0    0  ...      0      0   \n",
            "2          4    0    0    0    0    0    0    0    0    0  ...      0      0   \n",
            "3          1    0    0    0    0    0    0    0    0    0  ...      0      0   \n",
            "4          9    0    0    0    0    0    0    0    0    0  ...      0      0   \n",
            "...      ...  ...  ...  ...  ...  ...  ...  ...  ...  ...  ...    ...    ...   \n",
            "59995      8    0    0    0    0    0    0    0    0    0  ...      0      0   \n",
            "59996      3    0    0    0    0    0    0    0    0    0  ...      0      0   \n",
            "59997      5    0    0    0    0    0    0    0    0    0  ...      0      0   \n",
            "59998      6    0    0    0    0    0    0    0    0    0  ...      0      0   \n",
            "59999      8    0    0    0    0    0    0    0    0    0  ...      0      0   \n",
            "\n",
            "       28x21  28x22  28x23  28x24  28x25  28x26  28x27  28x28  \n",
            "0          0      0      0      0      0      0      0      0  \n",
            "1          0      0      0      0      0      0      0      0  \n",
            "2          0      0      0      0      0      0      0      0  \n",
            "3          0      0      0      0      0      0      0      0  \n",
            "4          0      0      0      0      0      0      0      0  \n",
            "...      ...    ...    ...    ...    ...    ...    ...    ...  \n",
            "59995      0      0      0      0      0      0      0      0  \n",
            "59996      0      0      0      0      0      0      0      0  \n",
            "59997      0      0      0      0      0      0      0      0  \n",
            "59998      0      0      0      0      0      0      0      0  \n",
            "59999      0      0      0      0      0      0      0      0  \n",
            "\n",
            "[60000 rows x 785 columns]\n",
            "TestSplit\n",
            "      label  1x1  1x2  1x3  1x4  1x5  1x6  1x7  1x8  1x9  ...  28x19  28x20  \\\n",
            "0         7    0    0    0    0    0    0    0    0    0  ...      0      0   \n",
            "1         2    0    0    0    0    0    0    0    0    0  ...      0      0   \n",
            "2         1    0    0    0    0    0    0    0    0    0  ...      0      0   \n",
            "3         0    0    0    0    0    0    0    0    0    0  ...      0      0   \n",
            "4         4    0    0    0    0    0    0    0    0    0  ...      0      0   \n",
            "...     ...  ...  ...  ...  ...  ...  ...  ...  ...  ...  ...    ...    ...   \n",
            "9995      2    0    0    0    0    0    0    0    0    0  ...      0      0   \n",
            "9996      3    0    0    0    0    0    0    0    0    0  ...      0      0   \n",
            "9997      4    0    0    0    0    0    0    0    0    0  ...      0      0   \n",
            "9998      5    0    0    0    0    0    0    0    0    0  ...      0      0   \n",
            "9999      6    0    0    0    0    0    0    0    0    0  ...      0      0   \n",
            "\n",
            "      28x21  28x22  28x23  28x24  28x25  28x26  28x27  28x28  \n",
            "0         0      0      0      0      0      0      0      0  \n",
            "1         0      0      0      0      0      0      0      0  \n",
            "2         0      0      0      0      0      0      0      0  \n",
            "3         0      0      0      0      0      0      0      0  \n",
            "4         0      0      0      0      0      0      0      0  \n",
            "...     ...    ...    ...    ...    ...    ...    ...    ...  \n",
            "9995      0      0      0      0      0      0      0      0  \n",
            "9996      0      0      0      0      0      0      0      0  \n",
            "9997      0      0      0      0      0      0      0      0  \n",
            "9998      0      0      0      0      0      0      0      0  \n",
            "9999      0      0      0      0      0      0      0      0  \n",
            "\n",
            "[10000 rows x 785 columns]\n"
          ]
        }
      ],
      "source": [
        "import pandas as pd\n",
        "path=\"/content/drive/My Drive/MachineLearning/SCI-KIT/mnist_train.csv\"\n",
        "TrainSplit=pd.read_csv(path)\n",
        "print('TrainSplit')\n",
        "print(TrainSplit)\n",
        "path=\"/content/drive/My Drive/MachineLearning/SCI-KIT/mnist_test.csv\"\n",
        "TestSplit=pd.read_csv(path)\n",
        "print('TestSplit')\n",
        "print(TestSplit)"
      ]
    },
    {
      "cell_type": "code",
      "execution_count": null,
      "metadata": {
        "colab": {
          "base_uri": "https://localhost:8080/"
        },
        "id": "1i2hpTHOQHse",
        "outputId": "fece92c2-648b-47cb-cd4b-d3d83a7f5db1"
      },
      "outputs": [
        {
          "output_type": "stream",
          "name": "stdout",
          "text": [
            "Iteration 1, loss = 8.54080290\n",
            "Iteration 2, loss = 3.90395947\n",
            "Iteration 3, loss = 3.08407445\n",
            "Iteration 4, loss = 2.61013999\n",
            "Iteration 5, loss = 2.30002567\n",
            "Iteration 6, loss = 2.06713604\n",
            "Iteration 7, loss = 1.88449006\n",
            "Iteration 8, loss = 1.74299930\n",
            "Iteration 9, loss = 1.62518328\n",
            "Iteration 10, loss = 1.52545163\n",
            "Iteration 11, loss = 1.43518815\n",
            "Iteration 12, loss = 1.36158618\n",
            "Iteration 13, loss = 1.29100094\n",
            "Iteration 14, loss = 1.22931560\n",
            "Iteration 15, loss = 1.17598002\n",
            "Iteration 16, loss = 1.12368469\n",
            "Iteration 17, loss = 1.07728447\n",
            "Iteration 18, loss = 1.03587135\n",
            "Iteration 19, loss = 0.99591566\n",
            "Iteration 20, loss = 0.96131659\n",
            "Iteration 21, loss = 0.92780847\n",
            "Iteration 22, loss = 0.89524368\n",
            "Iteration 23, loss = 0.86734568\n",
            "Iteration 24, loss = 0.83912357\n",
            "Iteration 25, loss = 0.81366424\n",
            "Iteration 26, loss = 0.78802441\n",
            "Iteration 27, loss = 0.76546758\n",
            "Iteration 28, loss = 0.74340060\n",
            "Iteration 29, loss = 0.72277238\n",
            "Iteration 30, loss = 0.70270089\n",
            "Iteration 31, loss = 0.68381958\n",
            "Iteration 32, loss = 0.66656983\n",
            "Iteration 33, loss = 0.64981726\n",
            "Iteration 34, loss = 0.63383673\n",
            "Iteration 35, loss = 0.61783218\n",
            "Iteration 36, loss = 0.60367594\n",
            "Iteration 37, loss = 0.59072389\n",
            "Iteration 38, loss = 0.57637242\n",
            "Iteration 39, loss = 0.56307520\n",
            "Iteration 40, loss = 0.54999725\n",
            "Iteration 41, loss = 0.53785821\n",
            "Iteration 42, loss = 0.52761615\n",
            "Iteration 43, loss = 0.51589267\n",
            "Iteration 44, loss = 0.50571817\n",
            "Iteration 45, loss = 0.49576927\n",
            "Iteration 46, loss = 0.48617234\n",
            "Iteration 47, loss = 0.47679813\n",
            "Iteration 48, loss = 0.46801956\n",
            "Iteration 49, loss = 0.45865757\n",
            "Iteration 50, loss = 0.45059675\n",
            "Iteration 51, loss = 0.44174338\n",
            "Iteration 52, loss = 0.43457238\n",
            "Iteration 53, loss = 0.42666525\n",
            "Iteration 54, loss = 0.41966736\n",
            "Iteration 55, loss = 0.41239948\n",
            "Iteration 56, loss = 0.40608625\n",
            "Iteration 57, loss = 0.39889619\n",
            "Iteration 58, loss = 0.39350865\n",
            "Iteration 59, loss = 0.38626490\n",
            "Iteration 60, loss = 0.37936888\n",
            "Iteration 61, loss = 0.37458312\n",
            "Iteration 62, loss = 0.36882863\n",
            "Iteration 63, loss = 0.36350370\n",
            "Iteration 64, loss = 0.35791637\n",
            "Iteration 65, loss = 0.35225324\n",
            "Iteration 66, loss = 0.34729038\n",
            "Iteration 67, loss = 0.34214507\n",
            "Iteration 68, loss = 0.33708254\n",
            "Iteration 69, loss = 0.33327070\n",
            "Iteration 70, loss = 0.32807796\n",
            "Iteration 71, loss = 0.32319400\n",
            "Iteration 72, loss = 0.31964095\n",
            "Iteration 73, loss = 0.31477929\n",
            "Iteration 74, loss = 0.31120100\n",
            "Iteration 75, loss = 0.30675836\n",
            "Iteration 76, loss = 0.30259406\n",
            "Iteration 77, loss = 0.29913283\n",
            "Iteration 78, loss = 0.29563084\n",
            "Iteration 79, loss = 0.29127027\n",
            "Iteration 80, loss = 0.28776083\n",
            "Iteration 81, loss = 0.28443281\n",
            "Iteration 82, loss = 0.28076686\n",
            "Iteration 83, loss = 0.27745511\n",
            "Iteration 84, loss = 0.27459262\n",
            "Iteration 85, loss = 0.27150316\n",
            "Iteration 86, loss = 0.26797821\n",
            "Iteration 87, loss = 0.26494914\n",
            "Iteration 88, loss = 0.26202052\n",
            "Iteration 89, loss = 0.25854870\n",
            "Iteration 90, loss = 0.25547748\n",
            "Iteration 91, loss = 0.25267910\n",
            "Iteration 92, loss = 0.25079729\n",
            "Iteration 93, loss = 0.24708860\n",
            "Iteration 94, loss = 0.24578443\n",
            "Iteration 95, loss = 0.24204562\n",
            "Iteration 96, loss = 0.23955264\n",
            "Iteration 97, loss = 0.23758696\n",
            "Iteration 98, loss = 0.23421136\n",
            "Iteration 99, loss = 0.23232343\n",
            "Iteration 100, loss = 0.23002821\n",
            "Iteration 101, loss = 0.22796569\n",
            "Iteration 102, loss = 0.22572502\n",
            "Iteration 103, loss = 0.22365635\n",
            "Iteration 104, loss = 0.22062439\n",
            "Iteration 105, loss = 0.21874570\n",
            "Iteration 106, loss = 0.21691251\n",
            "Iteration 107, loss = 0.21486764\n",
            "Iteration 108, loss = 0.21258536\n",
            "Iteration 109, loss = 0.21051016\n",
            "Iteration 110, loss = 0.20918994\n",
            "Iteration 111, loss = 0.20679614\n",
            "Iteration 112, loss = 0.20491940\n",
            "Iteration 113, loss = 0.20282715\n",
            "Iteration 114, loss = 0.20142530\n",
            "Iteration 115, loss = 0.19913263\n",
            "Iteration 116, loss = 0.19773242\n",
            "Iteration 117, loss = 0.19625118\n",
            "Iteration 118, loss = 0.19421028\n",
            "Iteration 119, loss = 0.19336999\n",
            "Iteration 120, loss = 0.19116338\n",
            "Iteration 121, loss = 0.18929916\n",
            "Iteration 122, loss = 0.18780084\n",
            "Iteration 123, loss = 0.18656536\n",
            "Iteration 124, loss = 0.18458723\n",
            "Iteration 125, loss = 0.18323222\n",
            "Iteration 126, loss = 0.18194418\n",
            "Iteration 127, loss = 0.18057784\n",
            "Iteration 128, loss = 0.17887386\n",
            "Iteration 129, loss = 0.17759089\n",
            "Iteration 130, loss = 0.17620870\n",
            "Iteration 131, loss = 0.17468214\n",
            "Iteration 132, loss = 0.17362856\n",
            "Iteration 133, loss = 0.17236650\n",
            "Iteration 134, loss = 0.17068642\n",
            "Iteration 135, loss = 0.16923500\n",
            "Iteration 136, loss = 0.16866078\n",
            "Iteration 137, loss = 0.16720533\n",
            "Iteration 138, loss = 0.16595900\n",
            "Iteration 139, loss = 0.16481798\n",
            "Iteration 140, loss = 0.16340081\n",
            "Iteration 141, loss = 0.16232955\n",
            "Iteration 142, loss = 0.16139733\n",
            "Iteration 143, loss = 0.16006057\n",
            "Iteration 144, loss = 0.15899049\n",
            "Iteration 145, loss = 0.15773821\n",
            "Iteration 146, loss = 0.15691537\n",
            "Iteration 147, loss = 0.15543086\n",
            "Iteration 148, loss = 0.15482120\n",
            "Iteration 149, loss = 0.15403693\n",
            "Iteration 150, loss = 0.15243288\n",
            "Iteration 151, loss = 0.15139157\n",
            "Iteration 152, loss = 0.15054602\n",
            "Iteration 153, loss = 0.14972743\n",
            "Iteration 154, loss = 0.14848796\n",
            "Iteration 155, loss = 0.14752733\n",
            "Iteration 156, loss = 0.14685556\n",
            "Iteration 157, loss = 0.14588791\n",
            "Iteration 158, loss = 0.14491994\n",
            "Iteration 159, loss = 0.14387749\n",
            "Iteration 160, loss = 0.14302912\n",
            "Iteration 161, loss = 0.14191728\n",
            "Iteration 162, loss = 0.14111011\n",
            "Iteration 163, loss = 0.14008021\n",
            "Iteration 164, loss = 0.13962884\n",
            "Iteration 165, loss = 0.13854583\n",
            "Iteration 166, loss = 0.13787004\n",
            "Iteration 167, loss = 0.13691902\n",
            "Iteration 168, loss = 0.13627265\n",
            "Iteration 169, loss = 0.13514286\n",
            "Iteration 170, loss = 0.13461607\n",
            "Iteration 171, loss = 0.13363270\n",
            "Iteration 172, loss = 0.13291560\n",
            "Iteration 173, loss = 0.13238630\n",
            "Iteration 174, loss = 0.13178575\n",
            "Iteration 175, loss = 0.13090806\n",
            "Iteration 176, loss = 0.13004034\n",
            "Iteration 177, loss = 0.12952752\n",
            "Iteration 178, loss = 0.12855041\n",
            "Iteration 179, loss = 0.12799433\n",
            "Iteration 180, loss = 0.12723110\n",
            "Iteration 181, loss = 0.12632276\n",
            "Iteration 182, loss = 0.12535141\n",
            "Iteration 183, loss = 0.12511912\n",
            "Iteration 184, loss = 0.12407246\n",
            "Iteration 185, loss = 0.12366439\n",
            "Iteration 186, loss = 0.12287306\n",
            "Iteration 187, loss = 0.12233545\n",
            "Iteration 188, loss = 0.12185916\n",
            "Iteration 189, loss = 0.12107657\n",
            "Iteration 190, loss = 0.12028267\n",
            "Iteration 191, loss = 0.11957491\n",
            "Iteration 192, loss = 0.11917952\n",
            "Iteration 193, loss = 0.11897595\n",
            "Iteration 194, loss = 0.11815211\n",
            "Iteration 195, loss = 0.11726505\n",
            "Iteration 196, loss = 0.11646839\n",
            "Iteration 197, loss = 0.11604482\n",
            "Iteration 198, loss = 0.11570958\n",
            "Iteration 199, loss = 0.11506838\n",
            "Iteration 200, loss = 0.11433265\n",
            "Iteration 201, loss = 0.11394885\n",
            "Iteration 202, loss = 0.11347363\n",
            "Iteration 203, loss = 0.11253217\n",
            "Iteration 204, loss = 0.11228638\n",
            "Iteration 205, loss = 0.11157804\n",
            "Iteration 206, loss = 0.11077530\n",
            "Iteration 207, loss = 0.11063978\n",
            "Iteration 208, loss = 0.11010833\n",
            "Iteration 209, loss = 0.10958042\n",
            "Iteration 210, loss = 0.10881502\n",
            "Iteration 211, loss = 0.10836125\n",
            "Iteration 212, loss = 0.10764139\n",
            "Iteration 213, loss = 0.10723609\n",
            "Iteration 214, loss = 0.10679099\n",
            "Iteration 215, loss = 0.10616793\n",
            "Iteration 216, loss = 0.10579108\n",
            "Iteration 217, loss = 0.10542442\n",
            "Iteration 218, loss = 0.10500400\n",
            "Iteration 219, loss = 0.10441370\n",
            "Iteration 220, loss = 0.10384871\n",
            "Iteration 221, loss = 0.10331326\n",
            "Iteration 222, loss = 0.10283618\n",
            "Iteration 223, loss = 0.10244123\n",
            "Iteration 224, loss = 0.10202118\n",
            "Iteration 225, loss = 0.10168644\n",
            "Iteration 226, loss = 0.10075374\n",
            "Iteration 227, loss = 0.10072773\n",
            "Iteration 228, loss = 0.10011867\n",
            "Iteration 229, loss = 0.09982289\n",
            "Iteration 230, loss = 0.09949703\n",
            "Iteration 231, loss = 0.09894128\n",
            "Iteration 232, loss = 0.09829890\n",
            "Iteration 233, loss = 0.09804902\n",
            "Iteration 234, loss = 0.09751617\n",
            "Iteration 235, loss = 0.09742375\n",
            "Iteration 236, loss = 0.09710156\n",
            "Iteration 237, loss = 0.09639186\n",
            "Iteration 238, loss = 0.09591141\n",
            "Iteration 239, loss = 0.09548827\n",
            "Iteration 240, loss = 0.09543926\n",
            "Iteration 241, loss = 0.09480526\n",
            "Iteration 242, loss = 0.09442521\n",
            "Iteration 243, loss = 0.09412458\n",
            "Iteration 244, loss = 0.09379600\n",
            "Iteration 245, loss = 0.09329235\n",
            "Iteration 246, loss = 0.09287290\n",
            "Iteration 247, loss = 0.09276475\n",
            "Iteration 248, loss = 0.09210022\n",
            "Iteration 249, loss = 0.09152204\n",
            "Iteration 250, loss = 0.09119648\n",
            "Iteration 251, loss = 0.09094543\n",
            "Iteration 252, loss = 0.09087218\n",
            "Iteration 253, loss = 0.09033888\n",
            "Iteration 254, loss = 0.08996580\n",
            "Iteration 255, loss = 0.08964684\n",
            "Iteration 256, loss = 0.08935175\n",
            "Iteration 257, loss = 0.08887299\n",
            "Iteration 258, loss = 0.08857999\n",
            "Iteration 259, loss = 0.08799453\n",
            "Iteration 260, loss = 0.08777064\n",
            "Iteration 261, loss = 0.08759015\n",
            "Iteration 262, loss = 0.08731225\n",
            "Iteration 263, loss = 0.08684551\n",
            "Iteration 264, loss = 0.08644458\n",
            "Iteration 265, loss = 0.08649199\n",
            "Iteration 266, loss = 0.08584401\n",
            "Iteration 267, loss = 0.08568107\n",
            "Iteration 268, loss = 0.08531514\n",
            "Iteration 269, loss = 0.08482523\n",
            "Iteration 270, loss = 0.08475917\n",
            "Iteration 271, loss = 0.08441462\n",
            "Iteration 272, loss = 0.08426676\n",
            "Iteration 273, loss = 0.08368344\n",
            "Iteration 274, loss = 0.08348496\n",
            "Iteration 275, loss = 0.08313307\n",
            "Iteration 276, loss = 0.08285479\n",
            "Iteration 277, loss = 0.08247407\n",
            "Iteration 278, loss = 0.08215316\n",
            "Iteration 279, loss = 0.08185856\n",
            "Iteration 280, loss = 0.08187494\n",
            "Iteration 281, loss = 0.08161176\n",
            "Iteration 282, loss = 0.08116113\n",
            "Iteration 283, loss = 0.08092809\n",
            "Iteration 284, loss = 0.08058788\n",
            "Iteration 285, loss = 0.08005341\n",
            "Iteration 286, loss = 0.07987319\n",
            "Iteration 287, loss = 0.07957715\n",
            "Iteration 288, loss = 0.07942787\n",
            "Iteration 289, loss = 0.07909749\n",
            "Iteration 290, loss = 0.07902007\n",
            "Iteration 291, loss = 0.07836071\n",
            "Iteration 292, loss = 0.07833057\n",
            "Iteration 293, loss = 0.07792509\n",
            "Iteration 294, loss = 0.07768751\n",
            "Iteration 295, loss = 0.07757312\n",
            "Iteration 296, loss = 0.07723526\n",
            "Iteration 297, loss = 0.07688140\n",
            "Iteration 298, loss = 0.07674901\n",
            "Iteration 299, loss = 0.07634566\n",
            "Iteration 300, loss = 0.07633448\n",
            "Iteration 301, loss = 0.07580958\n",
            "Iteration 302, loss = 0.07555992\n",
            "Iteration 303, loss = 0.07537496\n",
            "Iteration 304, loss = 0.07521996\n",
            "Iteration 305, loss = 0.07500008\n",
            "Iteration 306, loss = 0.07472716\n",
            "Iteration 307, loss = 0.07451004\n",
            "Iteration 308, loss = 0.07389323\n",
            "Iteration 309, loss = 0.07407386\n",
            "Iteration 310, loss = 0.07357729\n",
            "Iteration 311, loss = 0.07349752\n",
            "Iteration 312, loss = 0.07331941\n",
            "Iteration 313, loss = 0.07284663\n",
            "Iteration 314, loss = 0.07298326\n",
            "Iteration 315, loss = 0.07253148\n",
            "Iteration 316, loss = 0.07221653\n",
            "Iteration 317, loss = 0.07216320\n",
            "Iteration 318, loss = 0.07179651\n",
            "Iteration 319, loss = 0.07159912\n",
            "Iteration 320, loss = 0.07145570\n",
            "Iteration 321, loss = 0.07116039\n",
            "Iteration 322, loss = 0.07080755\n",
            "Iteration 323, loss = 0.07063278\n",
            "Iteration 324, loss = 0.07036852\n",
            "Iteration 325, loss = 0.07018715\n",
            "Iteration 326, loss = 0.07010620\n",
            "Iteration 327, loss = 0.06989140\n",
            "Iteration 328, loss = 0.06962898\n",
            "Iteration 329, loss = 0.06948439\n",
            "Iteration 330, loss = 0.06909156\n",
            "Iteration 331, loss = 0.06899559\n",
            "Iteration 332, loss = 0.06868463\n",
            "Iteration 333, loss = 0.06844205\n",
            "Iteration 334, loss = 0.06831093\n",
            "Iteration 335, loss = 0.06792973\n",
            "Iteration 336, loss = 0.06813049\n",
            "Iteration 337, loss = 0.06765773\n",
            "Iteration 338, loss = 0.06738457\n",
            "Iteration 339, loss = 0.06720603\n",
            "Iteration 340, loss = 0.06694155\n",
            "Iteration 341, loss = 0.06688567\n",
            "Iteration 342, loss = 0.06671536\n",
            "Iteration 343, loss = 0.06676412\n",
            "Iteration 344, loss = 0.06625020\n",
            "Iteration 345, loss = 0.06608131\n",
            "Iteration 346, loss = 0.06575760\n",
            "Iteration 347, loss = 0.06559475\n",
            "Iteration 348, loss = 0.06551276\n",
            "Iteration 349, loss = 0.06542893\n",
            "Iteration 350, loss = 0.06496803\n",
            "Iteration 351, loss = 0.06494970\n",
            "Iteration 352, loss = 0.06469809\n",
            "Iteration 353, loss = 0.06434021\n",
            "Iteration 354, loss = 0.06436783\n",
            "Iteration 355, loss = 0.06386691\n",
            "Iteration 356, loss = 0.06403873\n",
            "Iteration 357, loss = 0.06364323\n",
            "Iteration 358, loss = 0.06336678\n",
            "Iteration 359, loss = 0.06353115\n",
            "Iteration 360, loss = 0.06318586\n",
            "Iteration 361, loss = 0.06293025\n",
            "Iteration 362, loss = 0.06260313\n",
            "Iteration 363, loss = 0.06271733\n",
            "Iteration 364, loss = 0.06240735\n",
            "Iteration 365, loss = 0.06229002\n",
            "Iteration 366, loss = 0.06200126\n",
            "Iteration 367, loss = 0.06191460\n",
            "Iteration 368, loss = 0.06181358\n",
            "Iteration 369, loss = 0.06151406\n",
            "Iteration 370, loss = 0.06131926\n",
            "Iteration 371, loss = 0.06141894\n",
            "Iteration 372, loss = 0.06121915\n",
            "Iteration 373, loss = 0.06089647\n",
            "Iteration 374, loss = 0.06061671\n",
            "Iteration 375, loss = 0.06056055\n",
            "Iteration 376, loss = 0.06040976\n",
            "Iteration 377, loss = 0.06031830\n",
            "Iteration 378, loss = 0.05991663\n",
            "Iteration 379, loss = 0.05991171\n",
            "Iteration 380, loss = 0.05968754\n",
            "Iteration 381, loss = 0.05951900\n",
            "Iteration 382, loss = 0.05953909\n",
            "Iteration 383, loss = 0.05931747\n",
            "Iteration 384, loss = 0.05908664\n",
            "Iteration 385, loss = 0.05869826\n",
            "Iteration 386, loss = 0.05868315\n",
            "Iteration 387, loss = 0.05867860\n",
            "Iteration 388, loss = 0.05845920\n",
            "Iteration 389, loss = 0.05832447\n",
            "Iteration 390, loss = 0.05802727\n",
            "Iteration 391, loss = 0.05796217\n",
            "Iteration 392, loss = 0.05788740\n",
            "Iteration 393, loss = 0.05753623\n",
            "Iteration 394, loss = 0.05774551\n",
            "Iteration 395, loss = 0.05741281\n",
            "Iteration 396, loss = 0.05711677\n",
            "Iteration 397, loss = 0.05712519\n",
            "Iteration 398, loss = 0.05703015\n",
            "Iteration 399, loss = 0.05667228\n",
            "Iteration 400, loss = 0.05645940\n",
            "Iteration 401, loss = 0.05637234\n",
            "Iteration 402, loss = 0.05621204\n",
            "Iteration 403, loss = 0.05606913\n",
            "Iteration 404, loss = 0.05607312\n",
            "Iteration 405, loss = 0.05586515\n",
            "Iteration 406, loss = 0.05566685\n",
            "Iteration 407, loss = 0.05548443\n",
            "Iteration 408, loss = 0.05552797\n",
            "Iteration 409, loss = 0.05545704\n",
            "Iteration 410, loss = 0.05505353\n",
            "Iteration 411, loss = 0.05498755\n",
            "Iteration 412, loss = 0.05494890\n",
            "Iteration 413, loss = 0.05477659\n",
            "Iteration 414, loss = 0.05452783\n",
            "Iteration 415, loss = 0.05451651\n",
            "Iteration 416, loss = 0.05437674\n",
            "Iteration 417, loss = 0.05406284\n",
            "Iteration 418, loss = 0.05399865\n",
            "Iteration 419, loss = 0.05394556\n",
            "Iteration 420, loss = 0.05376589\n",
            "Iteration 421, loss = 0.05351828\n",
            "Iteration 422, loss = 0.05335147\n",
            "Iteration 423, loss = 0.05323477\n",
            "Iteration 424, loss = 0.05330477\n",
            "Iteration 425, loss = 0.05289472\n",
            "Iteration 426, loss = 0.05293258\n",
            "Iteration 427, loss = 0.05269939\n",
            "Iteration 428, loss = 0.05254838\n",
            "Iteration 429, loss = 0.05250953\n",
            "Iteration 430, loss = 0.05229764\n",
            "Iteration 431, loss = 0.05220180\n",
            "Iteration 432, loss = 0.05201002\n",
            "Iteration 433, loss = 0.05199118\n",
            "Iteration 434, loss = 0.05170496\n",
            "Iteration 435, loss = 0.05173974\n",
            "Iteration 436, loss = 0.05168740\n",
            "Iteration 437, loss = 0.05153457\n",
            "Iteration 438, loss = 0.05118672\n",
            "Iteration 439, loss = 0.05110406\n",
            "Iteration 440, loss = 0.05098662\n",
            "Iteration 441, loss = 0.05090659\n",
            "Iteration 442, loss = 0.05086809\n",
            "Iteration 443, loss = 0.05055901\n",
            "Iteration 444, loss = 0.05058399\n",
            "Iteration 445, loss = 0.05035897\n",
            "Iteration 446, loss = 0.05018274\n",
            "Iteration 447, loss = 0.05013521\n",
            "Iteration 448, loss = 0.05005874\n",
            "Iteration 449, loss = 0.05000582\n",
            "Iteration 450, loss = 0.04968950\n",
            "Iteration 451, loss = 0.04976225\n",
            "Iteration 452, loss = 0.04949792\n",
            "Iteration 453, loss = 0.04946338\n",
            "Iteration 454, loss = 0.04928394\n",
            "Iteration 455, loss = 0.04904990\n",
            "Iteration 456, loss = 0.04900642\n",
            "Iteration 457, loss = 0.04888866\n",
            "Iteration 458, loss = 0.04886347\n",
            "Iteration 459, loss = 0.04857347\n",
            "Iteration 460, loss = 0.04853226\n",
            "Iteration 461, loss = 0.04845852\n",
            "Iteration 462, loss = 0.04834771\n",
            "Iteration 463, loss = 0.04813035\n",
            "Iteration 464, loss = 0.04804845\n",
            "Iteration 465, loss = 0.04803531\n",
            "Iteration 466, loss = 0.04784147\n",
            "Iteration 467, loss = 0.04788952\n",
            "Iteration 468, loss = 0.04767453\n",
            "Iteration 469, loss = 0.04754455\n",
            "Iteration 470, loss = 0.04750336\n",
            "Iteration 471, loss = 0.04735576\n",
            "Iteration 472, loss = 0.04727152\n",
            "Iteration 473, loss = 0.04716828\n",
            "Iteration 474, loss = 0.04714491\n",
            "Iteration 475, loss = 0.04685126\n",
            "Iteration 476, loss = 0.04680186\n",
            "Iteration 477, loss = 0.04672408\n",
            "Iteration 478, loss = 0.04670503\n",
            "Iteration 479, loss = 0.04646092\n",
            "Iteration 480, loss = 0.04638101\n",
            "Iteration 481, loss = 0.04626922\n",
            "Iteration 482, loss = 0.04610305\n",
            "Iteration 483, loss = 0.04592258\n",
            "Iteration 484, loss = 0.04590954\n",
            "Iteration 485, loss = 0.04582575\n",
            "Iteration 486, loss = 0.04569995\n",
            "Iteration 487, loss = 0.04553682\n",
            "Iteration 488, loss = 0.04547717\n",
            "Iteration 489, loss = 0.04548323\n",
            "Iteration 490, loss = 0.04530279\n",
            "Iteration 491, loss = 0.04520649\n",
            "Iteration 492, loss = 0.04514091\n",
            "Iteration 493, loss = 0.04503869\n",
            "Iteration 494, loss = 0.04501770\n",
            "Iteration 495, loss = 0.04458085\n",
            "Iteration 496, loss = 0.04460272\n",
            "Iteration 497, loss = 0.04458667\n",
            "Iteration 498, loss = 0.04437027\n",
            "Iteration 499, loss = 0.04428924\n",
            "Iteration 500, loss = 0.04423414\n",
            "Iteration 501, loss = 0.04400986\n",
            "Iteration 502, loss = 0.04401008\n",
            "Iteration 503, loss = 0.04396593\n",
            "Iteration 504, loss = 0.04381145\n",
            "Iteration 505, loss = 0.04364162\n",
            "Iteration 506, loss = 0.04348530\n",
            "Iteration 507, loss = 0.04332155\n",
            "Iteration 508, loss = 0.04346344\n",
            "Iteration 509, loss = 0.04325182\n",
            "Iteration 510, loss = 0.04319608\n",
            "Iteration 511, loss = 0.04311900\n",
            "Iteration 512, loss = 0.04301455\n",
            "Iteration 513, loss = 0.04293680\n",
            "Iteration 514, loss = 0.04282367\n",
            "Iteration 515, loss = 0.04267023\n",
            "Iteration 516, loss = 0.04263564\n",
            "Iteration 517, loss = 0.04267288\n",
            "Iteration 518, loss = 0.04241433\n",
            "Iteration 519, loss = 0.04243265\n",
            "Iteration 520, loss = 0.04222779\n",
            "Iteration 521, loss = 0.04212194\n",
            "Iteration 522, loss = 0.04201003\n",
            "Iteration 523, loss = 0.04203951\n",
            "Iteration 524, loss = 0.04184321\n",
            "Iteration 525, loss = 0.04177208\n",
            "Iteration 526, loss = 0.04161953\n",
            "Iteration 527, loss = 0.04166134\n",
            "Iteration 528, loss = 0.04146200\n",
            "Iteration 529, loss = 0.04158597\n",
            "Iteration 530, loss = 0.04124178\n",
            "Iteration 531, loss = 0.04128275\n",
            "Iteration 532, loss = 0.04121207\n",
            "Iteration 533, loss = 0.04107830\n",
            "Iteration 534, loss = 0.04089794\n",
            "Iteration 535, loss = 0.04099625\n",
            "Iteration 536, loss = 0.04076440\n",
            "Iteration 537, loss = 0.04063417\n",
            "Iteration 538, loss = 0.04054610\n",
            "Iteration 539, loss = 0.04033423\n",
            "Iteration 540, loss = 0.04039422\n",
            "Iteration 541, loss = 0.04025134\n",
            "Iteration 542, loss = 0.04033116\n",
            "Iteration 543, loss = 0.04016647\n",
            "Iteration 544, loss = 0.04002069\n",
            "Iteration 545, loss = 0.03998648\n",
            "Iteration 546, loss = 0.03994818\n",
            "Iteration 547, loss = 0.03984649\n",
            "Iteration 548, loss = 0.03969053\n",
            "Iteration 549, loss = 0.03959193\n",
            "Iteration 550, loss = 0.03959200\n",
            "Iteration 551, loss = 0.03943144\n",
            "Iteration 552, loss = 0.03937771\n",
            "Iteration 553, loss = 0.03928144\n",
            "Iteration 554, loss = 0.03927982\n",
            "Iteration 555, loss = 0.03903208\n",
            "Iteration 556, loss = 0.03905470\n",
            "Iteration 557, loss = 0.03894156\n",
            "Iteration 558, loss = 0.03885379\n",
            "Iteration 559, loss = 0.03878793\n",
            "Iteration 560, loss = 0.03880319\n",
            "Iteration 561, loss = 0.03856021\n",
            "Iteration 562, loss = 0.03855688\n",
            "Iteration 563, loss = 0.03848386\n",
            "Iteration 564, loss = 0.03841486\n",
            "Iteration 565, loss = 0.03824652\n",
            "Iteration 566, loss = 0.03823113\n",
            "Iteration 567, loss = 0.03817498\n",
            "Iteration 568, loss = 0.03810028\n",
            "Iteration 569, loss = 0.03801713\n",
            "Iteration 570, loss = 0.03781205\n",
            "Iteration 571, loss = 0.03780896\n",
            "Iteration 572, loss = 0.03759936\n",
            "Iteration 573, loss = 0.03774373\n",
            "Iteration 574, loss = 0.03759855\n",
            "Iteration 575, loss = 0.03749962\n",
            "Iteration 576, loss = 0.03743158\n",
            "Iteration 577, loss = 0.03733562\n",
            "Iteration 578, loss = 0.03726885\n",
            "Iteration 579, loss = 0.03710213\n",
            "Iteration 580, loss = 0.03730951\n",
            "Iteration 581, loss = 0.03700227\n",
            "Iteration 582, loss = 0.03693384\n",
            "Iteration 583, loss = 0.03690573\n",
            "Iteration 584, loss = 0.03675287\n",
            "Iteration 585, loss = 0.03667320\n",
            "Iteration 586, loss = 0.03678240\n",
            "Iteration 587, loss = 0.03665254\n",
            "Iteration 588, loss = 0.03650884\n",
            "Iteration 589, loss = 0.03653376\n",
            "Iteration 590, loss = 0.03640003\n",
            "Iteration 591, loss = 0.03619557\n",
            "Iteration 592, loss = 0.03630274\n",
            "Iteration 593, loss = 0.03613852\n",
            "Iteration 594, loss = 0.03593695\n",
            "Iteration 595, loss = 0.03598316\n",
            "Iteration 596, loss = 0.03591879\n",
            "Iteration 597, loss = 0.03576977\n",
            "Iteration 598, loss = 0.03570573\n",
            "Iteration 599, loss = 0.03574244\n",
            "Iteration 600, loss = 0.03560959\n",
            "Iteration 601, loss = 0.03555196\n",
            "Iteration 602, loss = 0.03548010\n",
            "Iteration 603, loss = 0.03542205\n",
            "Iteration 604, loss = 0.03536420\n",
            "Iteration 605, loss = 0.03530971\n",
            "Iteration 606, loss = 0.03514604\n",
            "Iteration 607, loss = 0.03514876\n",
            "Iteration 608, loss = 0.03503452\n",
            "Iteration 609, loss = 0.03501306\n",
            "Iteration 610, loss = 0.03500527\n",
            "Iteration 611, loss = 0.03480382\n",
            "Iteration 612, loss = 0.03475712\n",
            "Iteration 613, loss = 0.03469775\n",
            "Iteration 614, loss = 0.03460877\n",
            "Iteration 615, loss = 0.03459340\n",
            "Iteration 616, loss = 0.03440951\n",
            "Iteration 617, loss = 0.03448335\n",
            "Iteration 618, loss = 0.03435040\n",
            "Iteration 619, loss = 0.03436582\n",
            "Iteration 620, loss = 0.03418530\n",
            "Iteration 621, loss = 0.03404358\n",
            "Iteration 622, loss = 0.03412803\n",
            "Iteration 623, loss = 0.03405062\n",
            "Iteration 624, loss = 0.03398730\n",
            "Iteration 625, loss = 0.03381517\n",
            "Iteration 626, loss = 0.03371829\n",
            "Iteration 627, loss = 0.03383894\n",
            "Iteration 628, loss = 0.03375122\n",
            "Iteration 629, loss = 0.03360186\n",
            "Iteration 630, loss = 0.03349704\n",
            "Iteration 631, loss = 0.03343204\n",
            "Iteration 632, loss = 0.03331692\n",
            "Iteration 633, loss = 0.03323832\n",
            "Iteration 634, loss = 0.03331237\n",
            "Iteration 635, loss = 0.03319685\n",
            "Iteration 636, loss = 0.03306619\n",
            "Iteration 637, loss = 0.03313024\n",
            "Iteration 638, loss = 0.03303287\n",
            "Iteration 639, loss = 0.03302777\n",
            "Iteration 640, loss = 0.03281616\n",
            "Iteration 641, loss = 0.03278296\n",
            "Iteration 642, loss = 0.03275958\n",
            "Iteration 643, loss = 0.03252884\n",
            "Iteration 644, loss = 0.03277634\n",
            "Iteration 645, loss = 0.03249283\n",
            "Iteration 646, loss = 0.03247316\n",
            "Iteration 647, loss = 0.03235534\n",
            "Iteration 648, loss = 0.03242341\n",
            "Iteration 649, loss = 0.03232280\n",
            "Iteration 650, loss = 0.03220299\n",
            "Iteration 651, loss = 0.03223987\n",
            "Iteration 652, loss = 0.03207247\n",
            "Iteration 653, loss = 0.03218534\n",
            "Iteration 654, loss = 0.03192794\n",
            "Iteration 655, loss = 0.03198999\n",
            "Iteration 656, loss = 0.03186672\n",
            "Iteration 657, loss = 0.03186792\n",
            "Iteration 658, loss = 0.03174510\n",
            "Iteration 659, loss = 0.03163726\n",
            "Iteration 660, loss = 0.03161468\n",
            "Iteration 661, loss = 0.03164805\n",
            "Iteration 662, loss = 0.03154328\n",
            "Iteration 663, loss = 0.03142483\n",
            "Iteration 664, loss = 0.03148591\n",
            "Iteration 665, loss = 0.03134396\n",
            "Iteration 666, loss = 0.03125872\n",
            "Iteration 667, loss = 0.03112721\n",
            "Iteration 668, loss = 0.03118387\n",
            "Iteration 669, loss = 0.03107857\n",
            "Iteration 670, loss = 0.03109439\n",
            "Iteration 671, loss = 0.03102689\n",
            "Iteration 672, loss = 0.03081746\n",
            "Iteration 673, loss = 0.03076788\n",
            "Iteration 674, loss = 0.03082254\n",
            "Iteration 675, loss = 0.03078242\n",
            "Iteration 676, loss = 0.03066387\n",
            "Iteration 677, loss = 0.03059718\n",
            "Iteration 678, loss = 0.03057580\n",
            "Iteration 679, loss = 0.03045911\n",
            "Iteration 680, loss = 0.03042911\n",
            "Iteration 681, loss = 0.03031048\n",
            "Iteration 682, loss = 0.03035071\n",
            "Iteration 683, loss = 0.03019755\n",
            "Iteration 684, loss = 0.03015553\n",
            "Iteration 685, loss = 0.03020931\n",
            "Iteration 686, loss = 0.02998839\n",
            "Iteration 687, loss = 0.03003706\n",
            "Iteration 688, loss = 0.02994335\n",
            "Iteration 689, loss = 0.02979578\n",
            "Iteration 690, loss = 0.02989798\n",
            "Iteration 691, loss = 0.02975088\n",
            "Iteration 692, loss = 0.02962284\n",
            "Iteration 693, loss = 0.02955591\n",
            "Iteration 694, loss = 0.02963969\n",
            "Iteration 695, loss = 0.02957157\n",
            "Iteration 696, loss = 0.02950070\n",
            "Iteration 697, loss = 0.02941658\n",
            "Iteration 698, loss = 0.02933484\n",
            "Iteration 699, loss = 0.02921673\n",
            "Iteration 700, loss = 0.02924709\n",
            "Iteration 701, loss = 0.02922809\n",
            "Iteration 702, loss = 0.02912583\n",
            "Iteration 703, loss = 0.02908917\n",
            "Iteration 704, loss = 0.02904762\n",
            "Iteration 705, loss = 0.02899685\n",
            "Iteration 706, loss = 0.02884360\n",
            "Iteration 707, loss = 0.02883676\n",
            "Iteration 708, loss = 0.02882891\n",
            "Iteration 709, loss = 0.02871294\n",
            "Iteration 710, loss = 0.02869372\n",
            "Iteration 711, loss = 0.02856415\n",
            "Iteration 712, loss = 0.02853615\n",
            "Iteration 713, loss = 0.02855789\n",
            "Iteration 714, loss = 0.02851383\n",
            "Iteration 715, loss = 0.02847517\n",
            "Iteration 716, loss = 0.02844868\n",
            "Iteration 717, loss = 0.02832051\n",
            "Iteration 718, loss = 0.02816086\n",
            "Iteration 719, loss = 0.02823780\n",
            "Iteration 720, loss = 0.02803083\n",
            "Iteration 721, loss = 0.02804907\n",
            "Iteration 722, loss = 0.02809739\n",
            "Iteration 723, loss = 0.02796538\n",
            "Iteration 724, loss = 0.02794350\n",
            "Iteration 725, loss = 0.02786682\n",
            "Iteration 726, loss = 0.02780934\n",
            "Iteration 727, loss = 0.02786534\n",
            "Iteration 728, loss = 0.02776573\n",
            "Iteration 729, loss = 0.02765114\n",
            "Iteration 730, loss = 0.02758713\n",
            "Iteration 731, loss = 0.02757326\n",
            "Iteration 732, loss = 0.02745598\n",
            "Iteration 733, loss = 0.02751390\n",
            "Iteration 734, loss = 0.02740760\n",
            "Iteration 735, loss = 0.02728582\n",
            "Iteration 736, loss = 0.02734037\n",
            "Iteration 737, loss = 0.02734871\n",
            "Iteration 738, loss = 0.02717110\n",
            "Iteration 739, loss = 0.02702940\n",
            "Iteration 740, loss = 0.02711065\n",
            "Iteration 741, loss = 0.02703102\n",
            "Iteration 742, loss = 0.02690999\n",
            "Iteration 743, loss = 0.02696065\n",
            "Iteration 744, loss = 0.02682139\n",
            "Iteration 745, loss = 0.02680533\n",
            "Iteration 746, loss = 0.02664089\n",
            "Iteration 747, loss = 0.02669045\n",
            "Iteration 748, loss = 0.02661641\n",
            "Iteration 749, loss = 0.02659871\n",
            "Iteration 750, loss = 0.02639669\n",
            "Iteration 751, loss = 0.02643044\n",
            "Iteration 752, loss = 0.02650320\n",
            "Iteration 753, loss = 0.02643961\n",
            "Iteration 754, loss = 0.02634032\n",
            "Iteration 755, loss = 0.02627138\n",
            "Iteration 756, loss = 0.02618705\n",
            "Iteration 757, loss = 0.02620823\n",
            "Iteration 758, loss = 0.02615396\n",
            "Iteration 759, loss = 0.02602393\n",
            "Iteration 760, loss = 0.02600205\n",
            "Iteration 761, loss = 0.02603576\n",
            "Iteration 762, loss = 0.02593847\n",
            "Iteration 763, loss = 0.02581802\n",
            "Iteration 764, loss = 0.02586042\n",
            "Iteration 765, loss = 0.02582528\n",
            "Iteration 766, loss = 0.02579173\n",
            "Iteration 767, loss = 0.02574470\n",
            "Iteration 768, loss = 0.02564073\n",
            "Iteration 769, loss = 0.02562014\n",
            "Iteration 770, loss = 0.02547055\n",
            "Iteration 771, loss = 0.02554176\n",
            "Iteration 772, loss = 0.02544170\n",
            "Iteration 773, loss = 0.02542023\n",
            "Iteration 774, loss = 0.02538731\n",
            "Iteration 775, loss = 0.02525120\n",
            "Iteration 776, loss = 0.02525378\n",
            "Iteration 777, loss = 0.02525052\n",
            "Iteration 778, loss = 0.02519023\n",
            "Iteration 779, loss = 0.02509096\n",
            "Iteration 780, loss = 0.02505567\n",
            "Iteration 781, loss = 0.02504089\n",
            "Iteration 782, loss = 0.02496723\n",
            "Iteration 783, loss = 0.02498508\n",
            "Iteration 784, loss = 0.02481893\n",
            "Iteration 785, loss = 0.02494967\n",
            "Iteration 786, loss = 0.02480713\n",
            "Iteration 787, loss = 0.02474574\n",
            "Iteration 788, loss = 0.02471028\n",
            "Iteration 789, loss = 0.02464517\n",
            "Iteration 790, loss = 0.02462067\n",
            "Iteration 791, loss = 0.02446218\n",
            "Iteration 792, loss = 0.02447279\n",
            "Iteration 793, loss = 0.02436611\n",
            "Iteration 794, loss = 0.02447894\n",
            "Iteration 795, loss = 0.02442148\n",
            "Iteration 796, loss = 0.02437033\n",
            "Iteration 797, loss = 0.02424543\n",
            "Iteration 798, loss = 0.02430718\n",
            "Iteration 799, loss = 0.02422732\n",
            "Iteration 800, loss = 0.02416083\n",
            "Iteration 801, loss = 0.02419562\n",
            "Iteration 802, loss = 0.02409977\n",
            "Iteration 803, loss = 0.02410830\n",
            "Iteration 804, loss = 0.02403368\n",
            "Iteration 805, loss = 0.02394813\n",
            "Iteration 806, loss = 0.02401180\n",
            "Iteration 807, loss = 0.02389031\n",
            "Iteration 808, loss = 0.02394415\n",
            "Training loss did not improve more than tol=0.000100 for 10 consecutive epochs. Stopping.\n",
            "Accuracy: 0.9363\n"
          ]
        }
      ],
      "source": [
        "import numpy as np\n",
        "from sklearn.neural_network import MLPClassifier\n",
        "from sklearn.metrics import accuracy_score\n",
        "y_train=TrainSplit.label\n",
        "\n",
        "# considerations for x_train\n",
        "TrainSplitX=TrainSplit.iloc[:, 1:785]\n",
        "x_train=np.array(TrainSplitX)\n",
        "y_test=TestSplit.label\n",
        "\n",
        "# considerations for x_train\n",
        "TestSplitX=TestSplit.iloc[:, 1:785]\n",
        "x_test=np.array(TestSplitX)\n",
        "\n",
        "# Reshape images to 28x28 pixels\n",
        "x_train = x_train.reshape((x_train.shape[0], 28*28))\n",
        "x_test = x_test.reshape((x_test.shape[0], 28*28))\n",
        "\n",
        "# Create MLPClassifier model\n",
        "model = MLPClassifier(hidden_layer_sizes=(100,), max_iter=1000, alpha=1e-4,\n",
        "                      solver='sgd', verbose=10, random_state=1,\n",
        "                      learning_rate_init=0.00001)\n",
        "\n",
        "# Train the model on the training data\n",
        "model.fit(x_train, y_train)\n",
        "\n",
        "# Predict the labels of the test data\n",
        "y_pred = model.predict(x_test)\n",
        "\n",
        "# Compute the accuracy of the model\n",
        "accuracy = accuracy_score(y_test, y_pred)\n",
        "\n",
        "print(\"Accuracy:\", accuracy)\n"
      ]
    },
    {
      "cell_type": "code",
      "source": [
        "plt.plot(model.loss_curve_)\n",
        "plt.xlabel('Iteration number')\n",
        "plt.ylabel('Loss')\n",
        "plt.title('Iteration number vs. loss for MLPClassifier')\n",
        "plt.show()"
      ],
      "metadata": {
        "colab": {
          "base_uri": "https://localhost:8080/",
          "height": 295
        },
        "id": "l67_vpcfI2fT",
        "outputId": "631b20fb-5b54-4f05-bde1-9115527b119d"
      },
      "execution_count": null,
      "outputs": [
        {
          "output_type": "display_data",
          "data": {
            "text/plain": [
              "<Figure size 432x288 with 1 Axes>"
            ],
            "image/png": "[encoded data removed]"
          },
          "metadata": {
            "needs_background": "light"
          }
        }
      ]
    },
    {
      "cell_type": "markdown",
      "source": [
        "#Loading and Saving the model using Pickle.\n",
        "\n",
        "The pickle module in Python is used for serializing and de-serializing Python objects. Serialization is the process of converting an object in memory to a byte stream that can be stored on disk or sent over a network, and de-serialization is the reverse process of recreating the original object from the byte stream.\n",
        "\n",
        "The pickle module can be used to save the state of a Python object to a file or to a byte stream, and then later re-create the object from the saved state. This can be useful for a variety of purposes, such as caching the results of expensive computations, or sending data between different processes or machines."
      ],
      "metadata": {
        "id": "J9NPXz-nZJTn"
      }
    },
    {
      "cell_type": "code",
      "source": [
        "import pickle\n",
        "path=\"/content/drive/My Drive/MachineLearning/SCI-KIT/LinearReg.pkl\"\n",
        "with open(path,'wb') as file:\n",
        "  pickle.dump(lr,file)"
      ],
      "metadata": {
        "id": "iZW1bqloeAbW"
      },
      "execution_count": null,
      "outputs": []
    },
    {
      "cell_type": "code",
      "source": [
        "import pickle\n",
        "from sklearn.datasets import load_diabetes\n",
        "from sklearn.model_selection import train_test_split\n",
        "import matplotlib.pyplot as plt\n",
        "\n",
        "path=\"/content/drive/My Drive/MachineLearning/SCI-KIT/LinearReg.pkl\"\n",
        "\n",
        "with open(path,'rb') as file:\n",
        "  z=pickle.load(file)\n",
        "# load the diabetes dataset from sklearn\n",
        "diabetes = load_diabetes()\n",
        "\n",
        "# split the data into training and testing sets\n",
        "X_train, X_test, y_train, y_test = train_test_split(diabetes.data[:, 2].reshape(-1, 1), diabetes.target, random_state=0)\n",
        "y_pred = z.predict(X_test)\n",
        "\n",
        "# plot the training data as a scatter plot\n",
        "plt.scatter(X_train, y_train, color='red')\n",
        "\n",
        "# plot the regression line using the coefficients obtained from the linear regression model\n",
        "plt.plot(X_train, z.coef_ * X_train + z.intercept_, color='blue')\n",
        "\n",
        "# set the axis labels and title\n",
        "plt.xlabel('Feature')\n",
        "plt.ylabel('Target')\n",
        "plt.title('Simple Linear Regression')\n",
        "\n",
        "# display the plot\n",
        "plt.show()\n"
      ],
      "metadata": {
        "colab": {
          "base_uri": "https://localhost:8080/",
          "height": 295
        },
        "id": "7ZijTMzJevZq",
        "outputId": "89576cb7-fa39-49e0-b94f-5939adc1c1d8"
      },
      "execution_count": null,
      "outputs": [
        {
          "output_type": "display_data",
          "data": {
            "text/plain": [
              "<Figure size 432x288 with 1 Axes>"
            ],
            "image/png": "[encoded data removed]"
          },
          "metadata": {
            "needs_background": "light"
          }
        }
      ]
    },
    {
      "cell_type": "code",
      "source": [
        "import pickle\n",
        "path=\"/content/drive/My Drive/MachineLearning/SCI-KIT/BackProp.pkl\"\n",
        "with open(path,'wb') as file:\n",
        "  pickle.dump(model,file)"
      ],
      "metadata": {
        "id": "lvtzh1KLG4aQ"
      },
      "execution_count": null,
      "outputs": []
    },
    {
      "cell_type": "code",
      "source": [
        "with open(path,'rb') as file:\n",
        "  z=pickle.load(file)\n",
        "plt.plot(z.loss_curve_)"
      ],
      "metadata": {
        "colab": {
          "base_uri": "https://localhost:8080/",
          "height": 282
        },
        "id": "C5LpHiLaHUXV",
        "outputId": "15a41886-9921-4331-a1e8-39375efd5ec5"
      },
      "execution_count": null,
      "outputs": [
        {
          "output_type": "execute_result",
          "data": {
            "text/plain": [
              "[<matplotlib.lines.Line2D at 0x7f2bfa7ed370>]"
            ]
          },
          "metadata": {},
          "execution_count": 22
        },
        {
          "output_type": "display_data",
          "data": {
            "text/plain": [
              "<Figure size 432x288 with 1 Axes>"
            ],
            "image/png": "[encoded data removed]"
          },
          "metadata": {
            "needs_background": "light"
          }
        }
      ]
    },
    {
      "cell_type": "code",
      "source": [
        "import pandas as pd\n",
        "path=\"/content/drive/My Drive/MachineLearning/SCI-KIT/playtennis.csv\"\n",
        "Data=pd.read_csv(path)\n",
        "Data1=pd.read_csv(path)\n",
        "print(Data)"
      ],
      "metadata": {
        "colab": {
          "base_uri": "https://localhost:8080/"
        },
        "id": "jp2CqD0QxcGm",
        "outputId": "ae09712a-fe65-4526-cdeb-95e811689a85"
      },
      "execution_count": null,
      "outputs": [
        {
          "output_type": "stream",
          "name": "stdout",
          "text": [
            "     OUTLOOK  TEMP HUMIDITY    WIND PLAY_TENNIES\n",
            "0      sunny   hot     high    weak           no\n",
            "1      sunny   hot     high  strong           no\n",
            "2   overcast   hot     high    weak          yes\n",
            "3       rain  mild     high    weak          yes\n",
            "4       rain  cool   normal    weak          yes\n",
            "5       rain  cool   normal  strong           no\n",
            "6   overcast  cool   normal  strong          yes\n",
            "7      sunny  mild     high    weak           no\n",
            "8      sunny  cool   normal    weak          yes\n",
            "9       rain  mild   normal    weak          yes\n",
            "10     sunny  mild   normal  strong          yes\n",
            "11  overcast  mild     high  strong          yes\n",
            "12  overcast   hot   normal    weak          yes\n",
            "13      rain  mild     high  strong           no\n"
          ]
        }
      ]
    },
    {
      "cell_type": "code",
      "source": [
        "from sklearn.tree import DecisionTreeClassifier\n",
        "from sklearn.model_selection import train_test_split\n",
        "from sklearn.metrics import accuracy_score\n",
        "from sklearn.tree import plot_tree\n",
        "from sklearn import preprocessing\n",
        "\n",
        "le = preprocessing.LabelEncoder()\n",
        "\n",
        "for column in Data.columns:\n",
        "    temp_new = le.fit_transform(Data[column].astype('category'))\n",
        "    Data.drop(labels=[column], axis=\"columns\", inplace=True)\n",
        "    Data[column] = temp_new\n",
        "\n",
        "# split the data into training and testing sets\n",
        "X_train, X_test, y_train, y_test = train_test_split(Data, Data.PLAY_TENNIES, random_state=0)\n",
        "\n",
        "# create a decision tree classifier model and fit it to the training data\n",
        "dt = DecisionTreeClassifier(criterion=\"entropy\").fit(X_train, y_train)\n",
        "\n",
        "# predict on the test data\n",
        "y_pred = dt.predict(X_test)\n",
        "\n",
        "# calculate the accuracy of the predictions\n",
        "accuracy = accuracy_score(y_test, y_pred)\n",
        "print('Accuracy:', accuracy)\n",
        "\n",
        "# plot the decision tree\n",
        "plot_tree(dt, feature_names=Data1.iloc[1,:], class_names=Data1.PLAY_TENNIES, filled=True)"
      ],
      "metadata": {
        "id": "890Qi1UVxaXb",
        "colab": {
          "base_uri": "https://localhost:8080/",
          "height": 317
        },
        "outputId": "9f4ff8c2-7f2c-4742-8302-295efa18e4fd"
      },
      "execution_count": null,
      "outputs": [
        {
          "output_type": "stream",
          "name": "stdout",
          "text": [
            "Accuracy: 1.0\n"
          ]
        },
        {
          "output_type": "execute_result",
          "data": {
            "text/plain": [
              "[Text(0.5, 0.75, 'no <= 0.5\\nentropy = 1.0\\nsamples = 10\\nvalue = [5, 5]\\nclass = no'),\n",
              " Text(0.25, 0.25, 'entropy = 0.0\\nsamples = 5\\nvalue = [5, 0]\\nclass = no'),\n",
              " Text(0.75, 0.25, 'entropy = 0.0\\nsamples = 5\\nvalue = [0, 5]\\nclass = no')]"
            ]
          },
          "metadata": {},
          "execution_count": 25
        },
        {
          "output_type": "display_data",
          "data": {
            "text/plain": [
              "<Figure size 432x288 with 1 Axes>"
            ],
            "image/png": "[encoded data removed]"
          },
          "metadata": {
            "needs_background": "light"
          }
        }
      ]
    }
  ],
  "metadata": {
    "accelerator": "TPU",
    "colab": {
      "provenance": []
    },
    "gpuClass": "standard",
    "kernelspec": {
      "display_name": "Python 3",
      "name": "python3"
    },
    "language_info": {
      "name": "python"
    }
  },
  "nbformat": 4,
  "nbformat_minor": 0
}
